{
 "cells": [
  {
   "cell_type": "code",
   "execution_count": 55,
   "metadata": {
    "collapsed": false
   },
   "outputs": [],
   "source": [
    "from sklearn.linear_model import LinearRegression, Lasso, Ridge\n",
    "from sklearn.preprocessing import Imputer\n",
    "from sklearn.feature_selection import SelectKBest, f_regression\n",
    "from sklearn import cross_validation\n",
    "import numpy as np\n",
    "import scipy as sp\n",
    "import pandas"
   ]
  },
  {
   "cell_type": "code",
   "execution_count": 51,
   "metadata": {
    "collapsed": false
   },
   "outputs": [],
   "source": [
    "train = np.genfromtxt('train.csv', delimiter=',', skip_header=1)\n",
    "test = np.genfromtxt('test.csv', delimiter=',' , skip_header=1)\n",
    "actual = np.genfromtxt('train.labels.txt')\n"
   ]
  },
  {
   "cell_type": "code",
   "execution_count": 52,
   "metadata": {
    "collapsed": false
   },
   "outputs": [],
   "source": [
    "imp = Imputer(missing_values =-1)\n",
    "train = imp.fit_transform(train )\n",
    "test = imp.fit_transform(test)"
   ]
  },
  {
   "cell_type": "code",
   "execution_count": 53,
   "metadata": {
    "collapsed": false
   },
   "outputs": [],
   "source": [
    "correlation = [sp.stats.pearsonr(column,actual)  for column in train.T]\n",
    "correlation = np.array([i[0] for i in correlation])\n",
    "posindices = np.where((correlation >9))[0]\n",
    "negindices = np.where((correlation <9))[0]\n",
    "indices = np.concatenate((posindices, negindices), 0)\n",
    "# for each in negindices:\n",
    "#     train[:,each] *= -1\n",
    "train = np.take(train, indices, axis =1)\n",
    "test  = np.take(test, indices, axis =1)"
   ]
  },
  {
   "cell_type": "code",
   "execution_count": 54,
   "metadata": {
    "collapsed": false
   },
   "outputs": [
    {
     "data": {
      "text/plain": [
       "array([-1.39621988, -1.20104008, -1.53630837])"
      ]
     },
     "execution_count": 54,
     "metadata": {},
     "output_type": "execute_result"
    }
   ],
   "source": [
    "reg = LinearRegression(normalize = True)\n",
    "reg.fit(train, actual)\n",
    "res = reg.predict(test)\n",
    "\n",
    "cross_validation.cross_val_score(reg, train, actual, scoring='mean_squared_error')\n"
   ]
  },
  {
   "cell_type": "code",
   "execution_count": 72,
   "metadata": {
    "collapsed": false
   },
   "outputs": [],
   "source": [
    "f = open('results.txt','w')\n",
    "f.write(\"RowID,Expected\\n\")\n",
    "for index, value in enumerate(res):\n",
    "    f.write(str(index+1)+ \",\" + str(value)+ \"\\n\")\n",
    "\n",
    "f.close()"
   ]
  },
  {
   "cell_type": "code",
   "execution_count": null,
   "metadata": {
    "collapsed": true
   },
   "outputs": [],
   "source": []
  }
 ],
 "metadata": {
  "kernelspec": {
   "display_name": "Python 2",
   "language": "python",
   "name": "python2"
  },
  "language_info": {
   "codemirror_mode": {
    "name": "ipython",
    "version": 2
   },
   "file_extension": ".py",
   "mimetype": "text/x-python",
   "name": "python",
   "nbconvert_exporter": "python",
   "pygments_lexer": "ipython2",
   "version": "2.7.11"
  }
 },
 "nbformat": 4,
 "nbformat_minor": 0
}
